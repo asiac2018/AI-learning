{
 "cells": [
  {
   "cell_type": "code",
   "execution_count": 4,
   "metadata": {},
   "outputs": [
    {
     "name": "stdout",
     "output_type": "stream",
     "text": [
      "[[1, 1, 3, 3, 0.7], [2, 2, 5, 5, 0.6], [3, 3, 4, 4, 0.8]]\n",
      "[[2, 2, 5, 5, 0.6], [1, 1, 3, 3, 0.7], [3, 3, 4, 4, 0.8]]\n"
     ]
    }
   ],
   "source": []
  },
  {
   "cell_type": "code",
   "execution_count": 21,
   "metadata": {},
   "outputs": [],
   "source": [
    "def CalIOU(list1,list2):\n",
    "    #list1 is a list:list1[0:4]:x1,x2,y1,y2\n",
    "    #list2 is a list:list2[0:4]:x1,x2,y1,y2\n",
    "    print(list1)\n",
    "    print(list2)\n",
    "    w = min(list1[1],list2[1])-max(list1[0],list2[0])+1\n",
    "    h = min(list1[3],list2[3])-max(list1[2],list2[2])+1\n",
    "    if w>0 and h>0:\n",
    "        return (w*h)/((list1[1]-list1[0]+1)*(list1[3]-list1[2]+1)+(list2[1]-list2[0]+1)*(list2[3]-list2[2]+1)-w*h)\n",
    "    else:\n",
    "        return 0;\n",
    "    "
   ]
  },
  {
   "cell_type": "code",
   "execution_count": 24,
   "metadata": {},
   "outputs": [],
   "source": [
    "def NMS(lists,thre):\n",
    "    #lists is a list.lists[0:4]:x1,x2,y1,y2;lists[4]:score\n",
    "    #thre:threshold for the IOU\n",
    "    \n",
    "    #sort the list according to score\n",
    "    lists.sort(key=lambda x:x[4])\n",
    "    print(lists)\n",
    "    result=[]\n",
    "    while(len(lists)):\n",
    "        TempL = lists.pop();\n",
    "        result.append(TempL)\n",
    "        \n",
    "        for i in range(len(lists)-1,-1,-1):\n",
    "            #calculate the IOU\n",
    "            IOU = CalIOU(TempL,lists[i])\n",
    "            print(IOU)\n",
    "            if IOU>thre:\n",
    "                TempL = lists.pop(i)\n",
    "        print(lists)\n",
    "        print(result)\n",
    "    \n",
    "    return result"
   ]
  },
  {
   "cell_type": "code",
   "execution_count": 27,
   "metadata": {},
   "outputs": [
    {
     "name": "stdout",
     "output_type": "stream",
     "text": [
      "[[1, 3, 1, 3, 0.7], [2, 5, 2, 5, 0.6], [3, 4, 3, 4, 0.8], [10, 14, 1, 5, 0.4]]\n",
      "[[10, 14, 1, 5, 0.4], [2, 5, 2, 5, 0.6], [1, 3, 1, 3, 0.7], [3, 4, 3, 4, 0.8]]\n",
      "[3, 4, 3, 4, 0.8]\n",
      "[1, 3, 1, 3, 0.7]\n",
      "0.08333333333333333\n",
      "[3, 4, 3, 4, 0.8]\n",
      "[2, 5, 2, 5, 0.6]\n",
      "0.25\n",
      "[2, 5, 2, 5, 0.6]\n",
      "[10, 14, 1, 5, 0.4]\n",
      "0\n",
      "[[10, 14, 1, 5, 0.4], [1, 3, 1, 3, 0.7]]\n",
      "[[3, 4, 3, 4, 0.8]]\n",
      "[1, 3, 1, 3, 0.7]\n",
      "[10, 14, 1, 5, 0.4]\n",
      "0\n",
      "[[10, 14, 1, 5, 0.4]]\n",
      "[[3, 4, 3, 4, 0.8], [1, 3, 1, 3, 0.7]]\n",
      "[]\n",
      "[[3, 4, 3, 4, 0.8], [1, 3, 1, 3, 0.7], [10, 14, 1, 5, 0.4]]\n",
      "[[3, 4, 3, 4, 0.8], [1, 3, 1, 3, 0.7], [10, 14, 1, 5, 0.4]]\n"
     ]
    }
   ],
   "source": [
    "import numpy as np\n",
    "TestLists=[[1,3,1,3,0.7],[2,5,2,5,0.6],[3,4,3,4,0.8],[10,14,1,5,0.4]]\n",
    "print(TestLists)\n",
    "Result = NMS(TestLists,0.1)\n",
    "print(Result)"
   ]
  },
  {
   "cell_type": "code",
   "execution_count": null,
   "metadata": {},
   "outputs": [],
   "source": []
  }
 ],
 "metadata": {
  "kernelspec": {
   "display_name": "Python 3",
   "language": "python",
   "name": "python3"
  },
  "language_info": {
   "codemirror_mode": {
    "name": "ipython",
    "version": 3
   },
   "file_extension": ".py",
   "mimetype": "text/x-python",
   "name": "python",
   "nbconvert_exporter": "python",
   "pygments_lexer": "ipython3",
   "version": "3.6.5"
  }
 },
 "nbformat": 4,
 "nbformat_minor": 2
}
